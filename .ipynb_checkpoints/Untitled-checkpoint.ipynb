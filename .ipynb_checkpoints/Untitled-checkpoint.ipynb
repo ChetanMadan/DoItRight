{
 "cells": [
  {
   "cell_type": "code",
   "execution_count": 13,
   "metadata": {},
   "outputs": [],
   "source": [
    "import os\n",
    "import sys\n",
    "import tensorflow as tf\n",
    "\n",
    "import numpy as np\n",
    "import cv2\n",
    "#sys.path.append(os.path.dirname(__file__) + \"/../\")\n",
    "#from scipy.misc import imread, imsave\n",
    "from config import load_config\n",
    "from dataset.factory import create as create_dataset\n",
    "from nnet import predict\n",
    "from util import visualize\n",
    "from dataset.pose_dataset import data_to_input\n",
    "\n",
    "from multiperson.detections import extract_detections\n",
    "from multiperson.predict import SpatialModel, eval_graph, get_person_conf_multicut\n",
    "from multiperson.visualize import PersonDraw, visualize_detections\n",
    "\n",
    "import matplotlib.pyplot as plt"
   ]
  },
  {
   "cell_type": "code",
   "execution_count": 14,
   "metadata": {},
   "outputs": [
    {
     "name": "stdout",
     "output_type": "stream",
     "text": [
      "INFO:tensorflow:Restoring parameters from models/coco/coco-resnet-101\n"
     ]
    },
    {
     "name": "stderr",
     "output_type": "stream",
     "text": [
      "INFO:tensorflow:Restoring parameters from models/coco/coco-resnet-101\n"
     ]
    }
   ],
   "source": [
    "tf.reset_default_graph()\n",
    "cfg = load_config(\"demo/pose_cfg_multi.yaml\")\n",
    "\n",
    "dataset = create_dataset(cfg)\n",
    "sm = SpatialModel(cfg)\n",
    "sm.load()\n",
    "\n",
    "draw_multi = PersonDraw()\n",
    "\n",
    "# Load and setup CNN part detector\n",
    "sess, inputs, outputs = predict.setup_pose_prediction(cfg)\n",
    "cap = cv2.VideoCapture(0)\n",
    "    # Read image from file\n",
    "#cap.set(cv2.CAP_PROP_FRAME_WIDTH,400);\n",
    "#cap.set(cv2.CAP_PROP_FRAME_HEIGHT,400);"
   ]
  },
  {
   "cell_type": "code",
   "execution_count": 15,
   "metadata": {},
   "outputs": [
    {
     "name": "stdout",
     "output_type": "stream",
     "text": [
      "num_people:  1\n",
      "#tracked objects: 0\n",
      "num_people:  1\n",
      "#tracked objects: 1\n",
      "num_people:  1\n",
      "#tracked objects: 1\n",
      "num_people:  1\n",
      "#tracked objects: 1\n",
      "num_people:  0\n",
      "#tracked objects: 0\n",
      "num_people:  1\n",
      "#tracked objects: 0\n",
      "(64, 54) (70, 49)\n",
      "(64, 54) (57, 48)\n",
      "(70, 49) (80, 55)\n",
      "(57, 48) (42, 54)\n",
      "num_people:  0\n",
      "#tracked objects: 0\n",
      "num_people:  1\n",
      "#tracked objects: 0\n",
      "(58, 47) (43, 54)\n",
      "num_people:  1\n",
      "#tracked objects: 1\n",
      "(65, 54) (71, 48)\n",
      "(65, 54) (58, 47)\n",
      "(58, 47) (43, 54)\n",
      "num_people:  1\n",
      "#tracked objects: 1\n",
      "(58, 47) (43, 55)\n",
      "num_people:  1\n",
      "#tracked objects: 1\n",
      "(66, 53) (70, 47)\n",
      "(66, 53) (58, 47)\n",
      "(58, 47) (44, 54)\n",
      "num_people:  0\n",
      "#tracked objects: 0\n",
      "num_people:  0\n",
      "#tracked objects: 0\n",
      "num_people:  0\n",
      "#tracked objects: 0\n",
      "num_people:  0\n",
      "#tracked objects: 0\n",
      "num_people:  0\n",
      "#tracked objects: 0\n",
      "num_people:  0\n",
      "#tracked objects: 0\n",
      "num_people:  0\n",
      "#tracked objects: 0\n",
      "num_people:  1\n",
      "#tracked objects: 0\n",
      "num_people:  1\n",
      "#tracked objects: 1\n",
      "num_people:  0\n",
      "#tracked objects: 0\n",
      "num_people:  1\n",
      "#tracked objects: 0\n",
      "(68, 54) (74, 48)\n",
      "(68, 54) (61, 47)\n",
      "(74, 48) (84, 51)\n",
      "(61, 47) (44, 53)\n",
      "num_people:  1\n",
      "#tracked objects: 1\n",
      "(60, 48) (47, 54)\n",
      "num_people:  1\n",
      "#tracked objects: 1\n",
      "num_people:  0\n",
      "#tracked objects: 0\n",
      "num_people:  0\n",
      "#tracked objects: 0\n",
      "num_people:  0\n",
      "#tracked objects: 0\n",
      "num_people:  0\n",
      "#tracked objects: 0\n",
      "num_people:  0\n",
      "#tracked objects: 0\n",
      "num_people:  0\n",
      "#tracked objects: 0\n",
      "num_people:  0\n",
      "#tracked objects: 0\n",
      "num_people:  0\n",
      "#tracked objects: 0\n",
      "num_people:  0\n",
      "#tracked objects: 0\n",
      "num_people:  0\n",
      "#tracked objects: 0\n",
      "num_people:  1\n",
      "#tracked objects: 0\n",
      "(67, 54) (73, 48)\n",
      "(67, 54) (60, 47)\n",
      "(60, 47) (46, 54)\n",
      "num_people:  1\n",
      "#tracked objects: 1\n",
      "(60, 47) (45, 53)\n",
      "num_people:  0\n",
      "#tracked objects: 0\n",
      "num_people:  1\n",
      "#tracked objects: 0\n",
      "(67, 55) (73, 48)\n",
      "(67, 55) (60, 47)\n",
      "(60, 47) (45, 54)\n",
      "num_people:  0\n",
      "#tracked objects: 0\n"
     ]
    }
   ],
   "source": [
    "i=1\n",
    "while(cap.isOpened()):\n",
    "    if i%6!=0:\n",
    "        ret, orig_frame=cap.read()\n",
    "        #file_name = frame\n",
    "        frame = cv2.resize(orig_frame, (0, 0), fx=0.2, fy=0.2)\n",
    "        #image = cv2.imread(file_name)\n",
    "        image=frame\n",
    "        image_batch = data_to_input(image)\n",
    "        # Compute prediction with the CNN\n",
    "        outputs_np = sess.run(outputs, feed_dict={inputs: image_batch})\n",
    "        scmap, locref, pairwise_diff = predict.extract_cnn_output(outputs_np, cfg, dataset.pairwise_stats)\n",
    "\n",
    "        detections = extract_detections(cfg, scmap, locref, pairwise_diff)\n",
    "        unLab, pos_array, unary_array, pwidx_array, pw_array = eval_graph(sm, detections)\n",
    "        person_conf_multi = get_person_conf_multicut(sm, unLab, unary_array, pos_array)\n",
    "\n",
    "        img = np.copy(image)\n",
    "\n",
    "        visim_multi = img.copy()\n",
    "\n",
    "        fig = cv2.imshow('frame',visim_multi)\n",
    "        draw_multi.draw(visim_multi, dataset, person_conf_multi)\n",
    "        \"\"\"fig.axes.get_xaxis().set_visible(False)\n",
    "        fig.axes.get_yaxis().set_visible(False)\n",
    "        \"\"\"\n",
    "        visualize.waitforbuttonpress()\n",
    "        if cv2.waitKey(1) & 0xFF == ord('q'):\n",
    "            break\n",
    "cap.release()\n",
    "cv2.destroyAllWindows()"
   ]
  },
  {
   "cell_type": "code",
   "execution_count": null,
   "metadata": {},
   "outputs": [],
   "source": []
  },
  {
   "cell_type": "code",
   "execution_count": null,
   "metadata": {},
   "outputs": [],
   "source": []
  },
  {
   "cell_type": "code",
   "execution_count": null,
   "metadata": {},
   "outputs": [],
   "source": [
    "frame"
   ]
  },
  {
   "cell_type": "code",
   "execution_count": null,
   "metadata": {},
   "outputs": [],
   "source": [
    "print(cv2.__version__)"
   ]
  },
  {
   "cell_type": "code",
   "execution_count": null,
   "metadata": {
    "scrolled": true
   },
   "outputs": [],
   "source": [
    "cap=cv2.VideoCapture(\"demo/Cardio exercises- Mountain Climber.mp4\")\n",
    "cap.set(cv2.CAP_PROP_FRAME_WIDTH,100);\n",
    "cap.set(cv2.CAP_PROP_FRAME_HEIGHT,100);\n",
    "i=0\n",
    "\n",
    "while(cap.isOpened()):\n",
    "    print(i)\n",
    "    i+=1\n",
    "    if i%10==0:\n",
    "        pass\n",
    "    else:\n",
    "        ret, frame=cap.read()\n",
    "        cv2.imshow('try',frame)\n",
    "\n",
    "        if cv2.waitKey(1) & 0xFF == ord('q'):\n",
    "            break\n",
    "cap.release()\n",
    "cv2.destroyAllWindows()"
   ]
  },
  {
   "cell_type": "code",
   "execution_count": null,
   "metadata": {},
   "outputs": [],
   "source": []
  },
  {
   "cell_type": "code",
   "execution_count": null,
   "metadata": {},
   "outputs": [],
   "source": []
  }
 ],
 "metadata": {
  "kernelspec": {
   "display_name": "Python 3",
   "language": "python",
   "name": "python3"
  },
  "language_info": {
   "codemirror_mode": {
    "name": "ipython",
    "version": 3
   },
   "file_extension": ".py",
   "mimetype": "text/x-python",
   "name": "python",
   "nbconvert_exporter": "python",
   "pygments_lexer": "ipython3",
   "version": "3.6.4"
  }
 },
 "nbformat": 4,
 "nbformat_minor": 2
}
